{
 "cells": [
  {
   "cell_type": "code",
   "execution_count": 1,
   "metadata": {},
   "outputs": [
    {
     "name": "stdout",
     "output_type": "stream",
     "text": [
      "It took 660.37 seconds for this script to perform the integration.\n"
     ]
    }
   ],
   "source": [
    "%matplotlib qt\n",
    "exec(open(\"SLEq_with_fixes.py\").read())"
   ]
  },
  {
   "cell_type": "code",
   "execution_count": 2,
   "metadata": {},
   "outputs": [
    {
     "data": {
      "text/plain": [
       "[<matplotlib.lines.Line2D at 0x7f6388699f40>]"
      ]
     },
     "execution_count": 2,
     "metadata": {},
     "output_type": "execute_result"
    }
   ],
   "source": [
    "# Plot second eigenvector\n",
    "plt.figure(1)\n",
    "plt.plot(ysub,vecs[:,0])\n",
    "plt.figure(2)\n",
    "plt.plot(ysub,vecs[:,1])\n",
    "plt.figure(3)\n",
    "plt.plot(ysub,vecs[:,2])\n",
    "plt.figure(4)\n",
    "plt.plot(ysub,vecs[:,3])\n",
    "plt.figure(5)\n",
    "plt.plot(ysub,vecs[:,4])\n",
    "plt.figure(6)\n",
    "plt.plot(ysub,vecs[:,5])\n",
    "plt.figure(7)\n",
    "plt.plot(ysub,vecs[:,6])\n",
    "plt.figure(8)\n",
    "plt.plot(ysub,vecs[:,7])\n",
    "plt.figure(9)\n",
    "plt.plot(ysub,vecs[:,8])\n",
    "plt.figure(10)\n",
    "plt.plot(ysub,vecs[:,9])\n",
    "plt.figure(11)\n",
    "plt.plot(ysub,vecs[:,10])"
   ]
  },
  {
   "cell_type": "code",
   "execution_count": 3,
   "metadata": {},
   "outputs": [
    {
     "data": {
      "text/plain": [
       "[<matplotlib.lines.Line2D at 0x7f638805c220>]"
      ]
     },
     "execution_count": 3,
     "metadata": {},
     "output_type": "execute_result"
    }
   ],
   "source": [
    "plt.figure(12)\n",
    "plt.plot(ysub,vecs[:,11])"
   ]
  },
  {
   "cell_type": "code",
   "execution_count": 21,
   "metadata": {},
   "outputs": [],
   "source": [
    "idx          = values.argsort()[::1]   \n",
    "values       = values[idx]\n",
    "vecs         = vecs[:,idx]"
   ]
  },
  {
   "cell_type": "code",
   "execution_count": 30,
   "metadata": {},
   "outputs": [
    {
     "data": {
      "text/plain": [
       "13.6914890351987"
      ]
     },
     "execution_count": 30,
     "metadata": {},
     "output_type": "execute_result"
    }
   ],
   "source": [
    "values[10]"
   ]
  },
  {
   "cell_type": "code",
   "execution_count": 4,
   "metadata": {},
   "outputs": [
    {
     "data": {
      "text/plain": [
       "2.3381079105344527"
      ]
     },
     "execution_count": 4,
     "metadata": {},
     "output_type": "execute_result"
    }
   ],
   "source": [
    "values[N-2]"
   ]
  },
  {
   "cell_type": "code",
   "execution_count": 24,
   "metadata": {},
   "outputs": [
    {
     "data": {
      "text/plain": [
       "(10001, 10001)"
      ]
     },
     "execution_count": 24,
     "metadata": {},
     "output_type": "execute_result"
    }
   ],
   "source": [
    "np.shape(np.diag(na))"
   ]
  },
  {
   "cell_type": "code",
   "execution_count": null,
   "metadata": {},
   "outputs": [],
   "source": []
  }
 ],
 "metadata": {
  "@webio": {
   "lastCommId": null,
   "lastKernelId": null
  },
  "kernelspec": {
   "display_name": "Python 3",
   "language": "python",
   "name": "python3"
  },
  "language_info": {
   "codemirror_mode": {
    "name": "ipython",
    "version": 3
   },
   "file_extension": ".py",
   "mimetype": "text/x-python",
   "name": "python",
   "nbconvert_exporter": "python",
   "pygments_lexer": "ipython3",
   "version": "3.8.3"
  }
 },
 "nbformat": 4,
 "nbformat_minor": 4
}
