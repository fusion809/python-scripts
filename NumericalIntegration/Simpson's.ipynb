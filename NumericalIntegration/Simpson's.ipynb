{
 "cells": [
  {
   "cell_type": "code",
   "execution_count": 59,
   "metadata": {},
   "outputs": [
    {
     "name": "stdout",
     "output_type": "stream",
     "text": [
      "It took 554.13 seconds for this script to perform the integration.\n",
      "The difference between what SciPy's quad computes and what we computed is 1.3061982758300061e-05\n"
     ]
    },
    {
     "data": {
      "image/png": "[encoded data removed]",
      "text/plain": [
       "<Figure size 432x288 with 1 Axes>"
      ]
     },
     "metadata": {
      "needs_background": "light"
     },
     "output_type": "display_data"
    }
   ],
   "source": [
    "exec(open(\"Simpson's.py\").read())"
   ]
  },
  {
   "cell_type": "code",
   "execution_count": 27,
   "metadata": {},
   "outputs": [
    {
     "data": {
      "text/plain": [
       "(-1.1845248610876293, 7.207435981371191e-09)"
      ]
     },
     "execution_count": 27,
     "metadata": {},
     "output_type": "execute_result"
    }
   ],
   "source": [
    "0.002046 # 1e-10 tol"
   ]
  },
  {
   "cell_type": "code",
   "execution_count": 39,
   "metadata": {},
   "outputs": [
    {
     "data": {
      "text/plain": [
       "0.000608279"
      ]
     },
     "execution_count": 39,
     "metadata": {},
     "output_type": "execute_result"
    }
   ],
   "source": [
    "# With N=10000000\n",
    "            # 1/1\n",
    "0.000050426 # 1/25N tol\n",
    "0.000018455 # 1/21N tol\n",
    "0.000010170 # 1/20N tol\n",
    "0.000001551 # 1/19N tol\n",
    "0.000000689 # 1/18.9N tol\n",
    "0.000000061 # 1/18.83N tol\n",
    "0.000000018 # 1/18.825N tol\n",
    "0.000000009 # 1/18.824N tol\n",
    "0.000000000615 # 1/18.823N tol\n",
    "0.000000025 # 1/18.82N tol\n",
    "0.000000198 # 1/18.8N tol\n",
    "0.000000630 # 1/18.75N tol\n",
    "0.000002806 # 1/18.5N tol\n",
    "0.000007600 # 1/18N tol\n",
    "0.000036971 # 1/15N tol\n",
    "0.000093439 # 1/10N tol\n",
    "0.000154190 # 1/6N tol\n",
    "0.000174266 # 1/5N tol\n",
    "0.000196957 # 1/4N tol\n",
    "0.000226335 # 1/3N tol\n",
    "0.000267056 # 1/2N tol\n",
    "0.000346898 # 1/N  tol\n",
    "0.00045358  # 2/N  tol\n",
    "0.000608279 # 4/N  tol"
   ]
  },
  {
   "cell_type": "code",
   "execution_count": 47,
   "metadata": {},
   "outputs": [
    {
     "data": {
      "text/plain": [
       "6.666666666666667e-09"
      ]
     },
     "execution_count": 47,
     "metadata": {},
     "output_type": "execute_result"
    }
   ],
   "source": [
    "1/(100*N)"
   ]
  },
  {
   "cell_type": "code",
   "execution_count": null,
   "metadata": {},
   "outputs": [],
   "source": []
  }
 ],
 "metadata": {
  "kernelspec": {
   "display_name": "Python 3",
   "language": "python",
   "name": "python3"
  },
  "language_info": {
   "codemirror_mode": {
    "name": "ipython",
    "version": 3
   },
   "file_extension": ".py",
   "mimetype": "text/x-python",
   "name": "python",
   "nbconvert_exporter": "python",
   "pygments_lexer": "ipython3",
   "version": "3.8.3"
  }
 },
 "nbformat": 4,
 "nbformat_minor": 4
}
