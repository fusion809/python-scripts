{
 "cells": [
  {
   "cell_type": "code",
   "execution_count": 1,
   "metadata": {},
   "outputs": [
    {
     "ename": "SyntaxError",
     "evalue": "invalid syntax (<string>, line 16)",
     "output_type": "error",
     "traceback": [
      "Traceback \u001b[0;36m(most recent call last)\u001b[0m:\n",
      "  File \u001b[1;32m\"/usr/lib/python3.8/site-packages/IPython/core/interactiveshell.py\"\u001b[0m, line \u001b[1;32m3331\u001b[0m, in \u001b[1;35mrun_code\u001b[0m\n    exec(code_obj, self.user_global_ns, self.user_ns)\n",
      "\u001b[0;36m  File \u001b[0;32m\"<ipython-input-1-a8179f54c035>\"\u001b[0;36m, line \u001b[0;32m1\u001b[0;36m, in \u001b[0;35m<module>\u001b[0;36m\u001b[0m\n\u001b[0;31m    exec(open(\"Simpson's_vector_free_iterative.py\").read())\u001b[0m\n",
      "\u001b[0;36m  File \u001b[0;32m\"<string>\"\u001b[0;36m, line \u001b[0;32m16\u001b[0m\n\u001b[0;31m    %matplotlib qt\u001b[0m\n\u001b[0m    ^\u001b[0m\n\u001b[0;31mSyntaxError\u001b[0m\u001b[0;31m:\u001b[0m invalid syntax\n"
     ]
    }
   ],
   "source": [
    "%matplotlib qt\n",
    "exec(open(\"Simpson's_vector_free_iterative.py\").read())"
   ]
  },
  {
   "cell_type": "code",
   "execution_count": 2,
   "metadata": {},
   "outputs": [],
   "source": [
    "%matplotlib qt"
   ]
  },
  {
   "cell_type": "code",
   "execution_count": null,
   "metadata": {},
   "outputs": [],
   "source": [
    "# With N=100000000\n",
    "1.505263e-04 # 1/100N tol\n",
    "4.357402e-05 # 1/30N tol\n",
    "3.231596e-05 # 1/25N tol\n",
    "2.750370e-05 # 1/23N tol\n",
    "2.626899e-05 # 1/22.5N tol\n",
    "2.602042e-05 # 1/22.4N tol\n",
    "2.589594e-05 # 1/22.35N tol\n",
    "2.577133e-05 # 1/22.3N tol\n",
    "2.554667e-05 # 1/22.21N tol\n",
    "4.207666e-06 # 1/22.201N tol\n",
    "4.210182e-06 # 1/22.2N tol\n",
    "4.212699e-06 # 1/22.199N tol\n",
    "4.222765e-06 # 1/22.195N tol\n",
    "4.235348e-06 # 1/22.19N tol\n",
    "4.336069e-06 # 1/22.15N tol\n",
    "4.462099e-06 # 1/22.1N tol\n",
    "4.714593e-06 # 1/22N tol\n",
    "7.272229e-06 # 1/21N tol\n",
    "9.892468e-06 # 1/20N tol\n",
    "1.306198e-05 # 1/18.823N tol\n",
    "4.109402e-05 # 1/10N tol\n",
    "8.936810e-05 # 1/1.8823N tol"
   ]
  },
  {
   "cell_type": "code",
   "execution_count": 39,
   "metadata": {},
   "outputs": [
    {
     "data": {
      "text/plain": [
       "0.000608279"
      ]
     },
     "execution_count": 39,
     "metadata": {},
     "output_type": "execute_result"
    }
   ],
   "source": [
    "# With N=10000000\n",
    "0.002046    # 1e-10\n",
    "0.000050426 # 1/25N tol\n",
    "0.000018455 # 1/21N tol\n",
    "0.000010170 # 1/20N tol\n",
    "0.000001551 # 1/19N tol\n",
    "0.000000689 # 1/18.9N tol\n",
    "0.000000061 # 1/18.83N tol\n",
    "0.000000018 # 1/18.825N tol\n",
    "0.000000009 # 1/18.824N tol\n",
    "0.000000000615 # 1/18.823N tol\n",
    "0.000000025 # 1/18.82N tol\n",
    "0.000000198 # 1/18.8N tol\n",
    "0.000000630 # 1/18.75N tol\n",
    "0.000002806 # 1/18.5N tol\n",
    "0.000007600 # 1/18N tol\n",
    "0.000036971 # 1/15N tol\n",
    "0.000093439 # 1/10N tol\n",
    "0.000154190 # 1/6N tol\n",
    "0.000174266 # 1/5N tol\n",
    "0.000196957 # 1/4N tol\n",
    "0.000226335 # 1/3N tol\n",
    "0.000267056 # 1/2N tol\n",
    "0.000346898 # 1/N  tol\n",
    "0.00045358  # 2/N  tol\n",
    "0.000608279 # 4/N  tol"
   ]
  },
  {
   "cell_type": "code",
   "execution_count": 47,
   "metadata": {},
   "outputs": [
    {
     "data": {
      "text/plain": [
       "6.666666666666667e-09"
      ]
     },
     "execution_count": 47,
     "metadata": {},
     "output_type": "execute_result"
    }
   ],
   "source": [
    "1/(100*N)"
   ]
  },
  {
   "cell_type": "code",
   "execution_count": 2,
   "metadata": {},
   "outputs": [
    {
     "data": {
      "text/plain": [
       "-1.4433756729740643"
      ]
     },
     "execution_count": 2,
     "metadata": {},
     "output_type": "execute_result"
    }
   ],
   "source": [
    "from numpy import sqrt\n",
    "(240-250)/(12/sqrt(3))"
   ]
  },
  {
   "cell_type": "code",
   "execution_count": null,
   "metadata": {},
   "outputs": [],
   "source": [
    "exec(open(\"Simpson's_vector_free_iterative.py\").read())"
   ]
  },
  {
   "cell_type": "code",
   "execution_count": null,
   "metadata": {},
   "outputs": [],
   "source": []
  }
 ],
 "metadata": {
  "kernelspec": {
   "display_name": "Python 3",
   "language": "python",
   "name": "python3"
  },
  "language_info": {
   "codemirror_mode": {
    "name": "ipython",
    "version": 3
   },
   "file_extension": ".py",
   "mimetype": "text/x-python",
   "name": "python",
   "nbconvert_exporter": "python",
   "pygments_lexer": "ipython3",
   "version": "3.8.3"
  }
 },
 "nbformat": 4,
 "nbformat_minor": 4
}
