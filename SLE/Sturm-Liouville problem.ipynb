{
 "cells": [
  {
   "cell_type": "code",
   "execution_count": 1,
   "metadata": {},
   "outputs": [
    {
     "name": "stdout",
     "output_type": "stream",
     "text": [
      "N is:\n",
      "  10000\n",
      "NN is:\n",
      "  5360\n",
      "b is:\n",
      "  870\n",
      "Root mean square relative error in the eigenvalues is:\n",
      "  2.747833322970292e-13\n",
      "It took:\n",
      "  763.87  seconds for this script to perform the computation.\n"
     ]
    }
   ],
   "source": [
    "%reset -f\n",
    "%matplotlib qt\n",
    "exec(open(\"SLEq_with_fixes.py\").read())"
   ]
  },
  {
   "cell_type": "code",
   "execution_count": null,
   "metadata": {},
   "outputs": [],
   "source": []
  }
 ],
 "metadata": {
  "@webio": {
   "lastCommId": null,
   "lastKernelId": null
  },
  "kernelspec": {
   "display_name": "Python 3.8.3 64-bit",
   "language": "python",
   "name": "python38364bite8d1bde4471f42bdbc5d159d11d14552"
  },
  "language_info": {
   "codemirror_mode": {
    "name": "ipython",
    "version": 3
   },
   "file_extension": ".py",
   "mimetype": "text/x-python",
   "name": "python",
   "nbconvert_exporter": "python",
   "pygments_lexer": "ipython3",
   "version": "3.8.3"
  }
 },
 "nbformat": 4,
 "nbformat_minor": 4
}
