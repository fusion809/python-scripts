{
 "cells": [
  {
   "cell_type": "code",
   "execution_count": 1,
   "metadata": {},
   "outputs": [
    {
     "output_type": "stream",
     "name": "stdout",
     "text": "N is:\n10000\nNN is:\n5360\nb is:\n870\nRoot mean square relative error in the eigenvalues is:\n2.747868006101066e-13\nIt took:\n705.65 seconds for this script to perform the integration.\n"
    }
   ],
   "source": [
    "%reset -f\n",
    "%matplotlib qt\n",
    "exec(open(\"SLEq_with_fixes.py\").read())"
   ]
  },
  {
   "cell_type": "code",
   "execution_count": 3,
   "metadata": {},
   "outputs": [
    {
     "output_type": "execute_result",
     "data": {
      "text/plain": "860.9497232066117"
     },
     "metadata": {},
     "execution_count": 3
    }
   ],
   "source": [
    "values[5360]"
   ]
  },
  {
   "cell_type": "code",
   "execution_count": null,
   "metadata": {},
   "outputs": [],
   "source": []
  }
 ],
 "metadata": {
  "@webio": {
   "lastCommId": null,
   "lastKernelId": null
  },
  "kernelspec": {
   "display_name": "Python 3.8.3 64-bit",
   "language": "python",
   "name": "python38364bite8d1bde4471f42bdbc5d159d11d14552"
  },
  "language_info": {
   "codemirror_mode": {
    "name": "ipython",
    "version": 3
   },
   "file_extension": ".py",
   "mimetype": "text/x-python",
   "name": "python",
   "nbconvert_exporter": "python",
   "pygments_lexer": "ipython3",
   "version": "3.8.3-final"
  }
 },
 "nbformat": 4,
 "nbformat_minor": 4
}