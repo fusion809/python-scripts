{
 "cells": [
  {
   "cell_type": "code",
   "execution_count": 15,
   "metadata": {},
   "outputs": [
    {
     "output_type": "stream",
     "name": "stdout",
     "text": "N is:\n10000\nNN is:\n5360\nb is:\n870\nRoot mean square relative error in the eigenvalues is:\n2.747868006101066e-13\nIt took:\n693.62 seconds for this script to perform the integration.\n"
    }
   ],
   "source": [
    "%reset -f\n",
    "%matplotlib qt\n",
    "exec(open(\"SLEq_with_fixes.py\").read())"
   ]
  },
  {
   "cell_type": "code",
   "execution_count": 13,
   "metadata": {},
   "outputs": [],
   "source": [
    "error_in_values = abs(divide(exact_values-reshape(values[0:NN+1],(NN+1,1)),exact_values))\n"
   ]
  },
  {
   "cell_type": "code",
   "execution_count": 14,
   "metadata": {},
   "outputs": [
    {
     "output_type": "execute_result",
     "data": {
      "text/plain": "array([[1.89471891e-11],\n       [3.21577577e-12],\n       [5.51982305e-12],\n       ...,\n       [3.43410668e-15],\n       [2.77335653e-15],\n       [1.08279502e-14]])"
     },
     "metadata": {},
     "execution_count": 14
    }
   ],
   "source": [
    "error_in_values"
   ]
  },
  {
   "cell_type": "code",
   "execution_count": null,
   "metadata": {},
   "outputs": [],
   "source": []
  }
 ],
 "metadata": {
  "@webio": {
   "lastCommId": null,
   "lastKernelId": null
  },
  "kernelspec": {
   "display_name": "Python 3.8.3 64-bit",
   "language": "python",
   "name": "python38364bite8d1bde4471f42bdbc5d159d11d14552"
  },
  "language_info": {
   "codemirror_mode": {
    "name": "ipython",
    "version": 3
   },
   "file_extension": ".py",
   "mimetype": "text/x-python",
   "name": "python",
   "nbconvert_exporter": "python",
   "pygments_lexer": "ipython3",
   "version": "3.8.3-final"
  }
 },
 "nbformat": 4,
 "nbformat_minor": 4
}